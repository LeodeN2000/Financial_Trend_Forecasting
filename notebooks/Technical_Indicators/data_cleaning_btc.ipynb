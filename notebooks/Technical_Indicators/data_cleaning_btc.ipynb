{
 "cells": [
  {
   "cell_type": "code",
   "execution_count": 2,
   "id": "bb95a3ff-39c5-4046-84fb-e060c9d84e28",
   "metadata": {},
   "outputs": [],
   "source": [
    "import pandas as pd\n",
    "import numpy as np"
   ]
  },
  {
   "cell_type": "code",
   "execution_count": 49,
   "id": "d33793d4-2e6a-4a2d-bddb-e1ee359236f6",
   "metadata": {},
   "outputs": [
    {
     "data": {
      "text/plain": [
       "Timestamp       int64\n",
       "Date           object\n",
       "Symbol         object\n",
       "Open          float64\n",
       "High          float64\n",
       "Low           float64\n",
       "Close         float64\n",
       "Volume BTC    float64\n",
       "Volume USD    float64\n",
       "dtype: object"
      ]
     },
     "execution_count": 49,
     "metadata": {},
     "output_type": "execute_result"
    }
   ],
   "source": [
    "path = \"../../raw_data/raw_btc_min_price_df_v1.csv\"\n",
    "data = pd.read_csv(path)\n",
    "df = data.copy()\n",
    "df.dtypes"
   ]
  },
  {
   "cell_type": "code",
   "execution_count": 8,
   "id": "3ec0128c-88a1-4780-89f0-bbbfac8c7154",
   "metadata": {},
   "outputs": [
    {
     "data": {
      "text/html": [
       "<div>\n",
       "<style scoped>\n",
       "    .dataframe tbody tr th:only-of-type {\n",
       "        vertical-align: middle;\n",
       "    }\n",
       "\n",
       "    .dataframe tbody tr th {\n",
       "        vertical-align: top;\n",
       "    }\n",
       "\n",
       "    .dataframe thead th {\n",
       "        text-align: right;\n",
       "    }\n",
       "</style>\n",
       "<table border=\"1\" class=\"dataframe\">\n",
       "  <thead>\n",
       "    <tr style=\"text-align: right;\">\n",
       "      <th></th>\n",
       "      <th>Timestamp</th>\n",
       "      <th>Date</th>\n",
       "      <th>Symbol</th>\n",
       "      <th>Open</th>\n",
       "      <th>High</th>\n",
       "      <th>Low</th>\n",
       "      <th>Close</th>\n",
       "      <th>Volume BTC</th>\n",
       "      <th>Volume USD</th>\n",
       "    </tr>\n",
       "  </thead>\n",
       "  <tbody>\n",
       "    <tr>\n",
       "      <th>0</th>\n",
       "      <td>1676939580000</td>\n",
       "      <td>2023-02-21 00:33:00</td>\n",
       "      <td>BTC/USD</td>\n",
       "      <td>24859.34</td>\n",
       "      <td>24859.34</td>\n",
       "      <td>24859.34</td>\n",
       "      <td>24859.34</td>\n",
       "      <td>0.000000</td>\n",
       "      <td>0.000000</td>\n",
       "    </tr>\n",
       "    <tr>\n",
       "      <th>1</th>\n",
       "      <td>1676939520000</td>\n",
       "      <td>2023-02-21 00:32:00</td>\n",
       "      <td>BTC/USD</td>\n",
       "      <td>24821.96</td>\n",
       "      <td>24859.34</td>\n",
       "      <td>24821.96</td>\n",
       "      <td>24859.34</td>\n",
       "      <td>0.103099</td>\n",
       "      <td>2562.977818</td>\n",
       "    </tr>\n",
       "    <tr>\n",
       "      <th>2</th>\n",
       "      <td>1676939460000</td>\n",
       "      <td>2023-02-21 00:31:00</td>\n",
       "      <td>BTC/USD</td>\n",
       "      <td>24818.09</td>\n",
       "      <td>24821.96</td>\n",
       "      <td>24815.47</td>\n",
       "      <td>24821.96</td>\n",
       "      <td>0.090640</td>\n",
       "      <td>2249.866178</td>\n",
       "    </tr>\n",
       "    <tr>\n",
       "      <th>3</th>\n",
       "      <td>1676939400000</td>\n",
       "      <td>2023-02-21 00:30:00</td>\n",
       "      <td>BTC/USD</td>\n",
       "      <td>24812.25</td>\n",
       "      <td>24818.09</td>\n",
       "      <td>24812.25</td>\n",
       "      <td>24818.09</td>\n",
       "      <td>0.002203</td>\n",
       "      <td>54.681450</td>\n",
       "    </tr>\n",
       "    <tr>\n",
       "      <th>4</th>\n",
       "      <td>1676939340000</td>\n",
       "      <td>2023-02-21 00:29:00</td>\n",
       "      <td>BTC/USD</td>\n",
       "      <td>24809.27</td>\n",
       "      <td>24812.25</td>\n",
       "      <td>24809.27</td>\n",
       "      <td>24812.25</td>\n",
       "      <td>0.090675</td>\n",
       "      <td>2249.862431</td>\n",
       "    </tr>\n",
       "  </tbody>\n",
       "</table>\n",
       "</div>"
      ],
      "text/plain": [
       "       Timestamp                 Date   Symbol      Open      High       Low  \\\n",
       "0  1676939580000  2023-02-21 00:33:00  BTC/USD  24859.34  24859.34  24859.34   \n",
       "1  1676939520000  2023-02-21 00:32:00  BTC/USD  24821.96  24859.34  24821.96   \n",
       "2  1676939460000  2023-02-21 00:31:00  BTC/USD  24818.09  24821.96  24815.47   \n",
       "3  1676939400000  2023-02-21 00:30:00  BTC/USD  24812.25  24818.09  24812.25   \n",
       "4  1676939340000  2023-02-21 00:29:00  BTC/USD  24809.27  24812.25  24809.27   \n",
       "\n",
       "      Close  Volume BTC   Volume USD  \n",
       "0  24859.34    0.000000     0.000000  \n",
       "1  24859.34    0.103099  2562.977818  \n",
       "2  24821.96    0.090640  2249.866178  \n",
       "3  24818.09    0.002203    54.681450  \n",
       "4  24812.25    0.090675  2249.862431  "
      ]
     },
     "execution_count": 8,
     "metadata": {},
     "output_type": "execute_result"
    }
   ],
   "source": [
    "df.head()"
   ]
  },
  {
   "cell_type": "code",
   "execution_count": 11,
   "id": "e3f18fdd-6ddd-42fe-a47b-c21e4fafaa78",
   "metadata": {},
   "outputs": [],
   "source": [
    "def df_formating(df, columns):\n",
    "    # Step 1: Rename columns\n",
    "    formated_df = df.rename(columns={\n",
    "        columns[0]: 'date',\n",
    "        columns[1]: 'open',\n",
    "        columns[2]: 'high',\n",
    "        columns[3]: 'low',\n",
    "        columns[4]: 'adj_close',\n",
    "        columns[5]: 'volume'\n",
    "    })\n",
    "\n",
    "    # Step 2: Drop all other columns\n",
    "    columns_to_keep = ['date', 'open', 'high', 'low', 'adj_close', 'volume']\n",
    "    formated_df = formated_df[columns_to_keep]\n",
    "\n",
    "    # Step 3: Set columns to float64\n",
    "    formated_df = formated_df.astype({'open': 'float32', 'high': 'float32', 'low': 'float32', 'adj_close': 'float32', 'volume': 'float32'})\n",
    "\n",
    "    # Step 4: Set 'date' column to datetime type\n",
    "    formated_df['date'] = pd.to_datetime(formated_df['date'], format='mixed')\n",
    "\n",
    "    # Step 5: Set 'date' column as the index\n",
    "    formated_df.set_index('date', inplace=True)\n",
    "\n",
    "    return formated_df"
   ]
  },
  {
   "cell_type": "code",
   "execution_count": 13,
   "id": "21ce2c50-122e-476e-84d6-74bcec8e5e6a",
   "metadata": {},
   "outputs": [
    {
     "data": {
      "text/html": [
       "<div>\n",
       "<style scoped>\n",
       "    .dataframe tbody tr th:only-of-type {\n",
       "        vertical-align: middle;\n",
       "    }\n",
       "\n",
       "    .dataframe tbody tr th {\n",
       "        vertical-align: top;\n",
       "    }\n",
       "\n",
       "    .dataframe thead th {\n",
       "        text-align: right;\n",
       "    }\n",
       "</style>\n",
       "<table border=\"1\" class=\"dataframe\">\n",
       "  <thead>\n",
       "    <tr style=\"text-align: right;\">\n",
       "      <th></th>\n",
       "      <th>open</th>\n",
       "      <th>high</th>\n",
       "      <th>low</th>\n",
       "      <th>adj_close</th>\n",
       "      <th>volume</th>\n",
       "    </tr>\n",
       "    <tr>\n",
       "      <th>date</th>\n",
       "      <th></th>\n",
       "      <th></th>\n",
       "      <th></th>\n",
       "      <th></th>\n",
       "      <th></th>\n",
       "    </tr>\n",
       "  </thead>\n",
       "  <tbody>\n",
       "    <tr>\n",
       "      <th>2023-02-21 00:33:00</th>\n",
       "      <td>24859.339844</td>\n",
       "      <td>24859.339844</td>\n",
       "      <td>24859.339844</td>\n",
       "      <td>24859.339844</td>\n",
       "      <td>0.000000</td>\n",
       "    </tr>\n",
       "    <tr>\n",
       "      <th>2023-02-21 00:32:00</th>\n",
       "      <td>24821.960938</td>\n",
       "      <td>24859.339844</td>\n",
       "      <td>24821.960938</td>\n",
       "      <td>24859.339844</td>\n",
       "      <td>2562.977783</td>\n",
       "    </tr>\n",
       "    <tr>\n",
       "      <th>2023-02-21 00:31:00</th>\n",
       "      <td>24818.089844</td>\n",
       "      <td>24821.960938</td>\n",
       "      <td>24815.470703</td>\n",
       "      <td>24821.960938</td>\n",
       "      <td>2249.866211</td>\n",
       "    </tr>\n",
       "    <tr>\n",
       "      <th>2023-02-21 00:30:00</th>\n",
       "      <td>24812.250000</td>\n",
       "      <td>24818.089844</td>\n",
       "      <td>24812.250000</td>\n",
       "      <td>24818.089844</td>\n",
       "      <td>54.681450</td>\n",
       "    </tr>\n",
       "    <tr>\n",
       "      <th>2023-02-21 00:29:00</th>\n",
       "      <td>24809.269531</td>\n",
       "      <td>24812.250000</td>\n",
       "      <td>24809.269531</td>\n",
       "      <td>24812.250000</td>\n",
       "      <td>2249.862549</td>\n",
       "    </tr>\n",
       "  </tbody>\n",
       "</table>\n",
       "</div>"
      ],
      "text/plain": [
       "                             open          high           low     adj_close  \\\n",
       "date                                                                          \n",
       "2023-02-21 00:33:00  24859.339844  24859.339844  24859.339844  24859.339844   \n",
       "2023-02-21 00:32:00  24821.960938  24859.339844  24821.960938  24859.339844   \n",
       "2023-02-21 00:31:00  24818.089844  24821.960938  24815.470703  24821.960938   \n",
       "2023-02-21 00:30:00  24812.250000  24818.089844  24812.250000  24818.089844   \n",
       "2023-02-21 00:29:00  24809.269531  24812.250000  24809.269531  24812.250000   \n",
       "\n",
       "                          volume  \n",
       "date                              \n",
       "2023-02-21 00:33:00     0.000000  \n",
       "2023-02-21 00:32:00  2562.977783  \n",
       "2023-02-21 00:31:00  2249.866211  \n",
       "2023-02-21 00:30:00    54.681450  \n",
       "2023-02-21 00:29:00  2249.862549  "
      ]
     },
     "execution_count": 13,
     "metadata": {},
     "output_type": "execute_result"
    }
   ],
   "source": [
    "columns = ['Date', 'Open', 'High', 'Low', 'Close', 'Volume USD']\n",
    "formated_df = df_formating(df, columns)\n",
    "formated_df.head()"
   ]
  },
  {
   "cell_type": "code",
   "execution_count": 14,
   "id": "dd79a28c-f6e4-4bb2-a8b6-fe2329dd6e18",
   "metadata": {},
   "outputs": [
    {
     "data": {
      "text/plain": [
       "open         float32\n",
       "high         float32\n",
       "low          float32\n",
       "adj_close    float32\n",
       "volume       float32\n",
       "dtype: object"
      ]
     },
     "execution_count": 14,
     "metadata": {},
     "output_type": "execute_result"
    }
   ],
   "source": [
    "formated_df.dtypes"
   ]
  },
  {
   "cell_type": "code",
   "execution_count": 25,
   "id": "e37a1d2d-0cd7-41ef-a9cb-c9710a5c342b",
   "metadata": {},
   "outputs": [],
   "source": [
    "export_path = \"../../raw_data/pro_btc_min_price_df_v2.csv\"\n",
    "formated_df.to_csv(export_path)"
   ]
  },
  {
   "cell_type": "code",
   "execution_count": 42,
   "id": "0cef377b-a337-4d86-bcb6-649e9aeb9f49",
   "metadata": {},
   "outputs": [],
   "source": [
    "def convert_to_interval(input_file, output_file, interval_minutes):\n",
    "    \"\"\"\n",
    "    Convert a CSV file with minute-level data to a new CSV file with a specified time interval.\n",
    "\n",
    "    Parameters:\n",
    "    - input_file (str): Path to the input CSV file.\n",
    "    - output_file (str): Path to the output CSV file.\n",
    "    - interval_minutes (int): Time interval for each row (e.g., 5 or 10 minutes).\n",
    "    \"\"\"\n",
    "    # Read the input CSV file into a DataFrame\n",
    "    df = pd.read_csv(input_file, index_col=0, parse_dates=True)\n",
    "\n",
    "    df.index = pd.to_datetime(df.index)\n",
    "\n",
    "    # Resample the DataFrame based on the specified time interval\n",
    "    resampled_df = df.resample(f'{interval_minutes}T').agg({\n",
    "        'open': 'first',\n",
    "        'high': 'max',\n",
    "        'low': 'min',\n",
    "        'adj_close': 'last',\n",
    "        'volume': 'sum'\n",
    "    })\n",
    "\n",
    "    # Drop rows with missing values (due to resampling)\n",
    "    resampled_df = resampled_df.dropna()\n",
    "\n",
    "    resampled_df = resampled_df.astype({'open': 'float32', 'high': 'float32', 'low': 'float32', 'adj_close': 'float32', 'volume': 'float32'})\n",
    "\n",
    "    # Write the resampled DataFrame to a new CSV file\n",
    "    resampled_df.to_csv(output_file)\n",
    "\n",
    "    return resampled_df"
   ]
  },
  {
   "cell_type": "code",
   "execution_count": 47,
   "id": "b30bfeca-6556-436d-8510-074d94d6d131",
   "metadata": {},
   "outputs": [],
   "source": [
    "input_csv_path = '../../raw_data/pro_btc_min_price_df_v2.csv'\n",
    "output_csv_path = '../../raw_data/pro_btc_60min_price_df_v1.csv'\n",
    "df_diff = convert_to_interval(input_csv_path, output_csv_path, interval_minutes=60)"
   ]
  },
  {
   "cell_type": "code",
   "execution_count": 48,
   "id": "901e444f-9042-4239-89fd-3a1419ca6d7c",
   "metadata": {},
   "outputs": [
    {
     "data": {
      "text/plain": [
       "open         float32\n",
       "high         float32\n",
       "low          float32\n",
       "adj_close    float32\n",
       "volume       float32\n",
       "dtype: object"
      ]
     },
     "execution_count": 48,
     "metadata": {},
     "output_type": "execute_result"
    }
   ],
   "source": [
    "df_diff.dtypes"
   ]
  }
 ],
 "metadata": {
  "kernelspec": {
   "display_name": "Python 3 (ipykernel)",
   "language": "python",
   "name": "python3"
  },
  "language_info": {
   "codemirror_mode": {
    "name": "ipython",
    "version": 3
   },
   "file_extension": ".py",
   "mimetype": "text/x-python",
   "name": "python",
   "nbconvert_exporter": "python",
   "pygments_lexer": "ipython3",
   "version": "3.10.6"
  },
  "widgets": {
   "application/vnd.jupyter.widget-state+json": {
    "state": {},
    "version_major": 2,
    "version_minor": 0
   }
  }
 },
 "nbformat": 4,
 "nbformat_minor": 5
}
